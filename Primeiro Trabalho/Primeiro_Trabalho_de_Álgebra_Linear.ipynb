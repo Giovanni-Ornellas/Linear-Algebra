{
  "cells": [
    {
      "cell_type": "markdown",
      "metadata": {
        "id": "kuqqiJMqfVjB"
      },
      "source": [
        "Nome: Giovanni Anselmo Fernandes Coelho de Ornellas\n",
        "\n",
        "DRE: 120136123\n",
        "\n",
        "Data: 04/05/2025\n",
        "\n",
        "Versão: 1.0"
      ]
    },
    {
      "cell_type": "markdown",
      "metadata": {
        "id": "eKYqQH9DgPD1"
      },
      "source": [
        "Primeiro Programa"
      ]
    },
    {
      "cell_type": "code",
      "execution_count": null,
      "metadata": {
        "id": "2Pp4vPokn8yv"
      },
      "outputs": [],
      "source": [
        "import numpy as np\n",
        "import unicodedata\n",
        "chave = 200 # Chave compartilhada entre quem envia e quem recebe a matriz"
      ]
    },
    {
      "cell_type": "code",
      "execution_count": null,
      "metadata": {
        "id": "O9AOZ7SboDUu"
      },
      "outputs": [],
      "source": [
        "tradutor_de_letras = {' ': 0}\n",
        "\n",
        "# Letras maiúsculas: A-Z → 1-26\n",
        "for i, letter in enumerate('ABCDEFGHIJKLMNOPQRSTUVWXYZ', start=1):\n",
        "    tradutor_de_letras[letter] = i\n",
        "\n",
        "# Letras minúsculas: a-z → 27-52\n",
        "for i, letter in enumerate('abcdefghijklmnopqrstuvwxyz', start=27):\n",
        "    tradutor_de_letras[letter] = i\n",
        "\n",
        "# Faz um dicionário inverso\n",
        "numero_para_letra = {valor: chave for chave, valor in tradutor_de_letras.items()}"
      ]
    },
    {
      "cell_type": "code",
      "execution_count": null,
      "metadata": {
        "id": "1TRYs3sKO7x2"
      },
      "outputs": [],
      "source": [
        "def tratar_mensagem(mensagem):\n",
        "    \"\"\"\n",
        "    @brief Normaliza e filtra uma mensagem, removendo acentos e caracteres inválidos.\n",
        "\n",
        "    Esta função realiza a normalização da string, removendo acentos, mantendo apenas\n",
        "    letras do alfabeto e espaços, e retorna o resultado como uma lista de caracteres.\n",
        "\n",
        "    @param mensagem A string original digitada pelo usuário.\n",
        "\n",
        "    @return list[str] Lista de caracteres contendo apenas letras (sem acento) e espaços.\n",
        "    \"\"\"\n",
        "    mensagem_normalizada = unicodedata.normalize('NFKD', mensagem)\n",
        "\n",
        "    mensagem_normalizada = ''.join([c for c in mensagem_normalizada if not unicodedata.combining(c)])\n",
        "\n",
        "    mensagem_tratada = [c for c in mensagem_normalizada if (c.isalpha() or c.isspace())]\n",
        "\n",
        "    return mensagem_tratada\n"
      ]
    },
    {
      "cell_type": "code",
      "execution_count": null,
      "metadata": {
        "id": "AbIVGCVridP-"
      },
      "outputs": [],
      "source": [
        "def gerar_vetor_de_letras():\n",
        "    \"\"\"\n",
        "    @brief Solicita uma mensagem ao usuário, trata e valida seu tamanho.\n",
        "\n",
        "    Essa função pede ao usuário uma mensagem de entrada, processa essa mensagem\n",
        "    usando a função tratador_de_mensagem(), e garante que ela tenha no máximo 10 caracteres\n",
        "    tratados. Caso contrário, solicita uma nova entrada até estar dentro do limite.\n",
        "\n",
        "    @return list[str] A mensagem tratada com no máximo 10 caracteres.\n",
        "    \"\"\"\n",
        "    mensagem = input()\n",
        "    mensagem_tratada = tratar_mensagem(mensagem)\n",
        "\n",
        "    while len(mensagem_tratada) > 10:\n",
        "        print(\"O tamanho da mensagem é grande demais!\")\n",
        "        mensagem = input()\n",
        "        mensagem_tratada = tratar_mensagem(mensagem)\n",
        "\n",
        "    return mensagem_tratada"
      ]
    },
    {
      "cell_type": "code",
      "execution_count": null,
      "metadata": {
        "colab": {
          "base_uri": "https://localhost:8080/"
        },
        "id": "TiaxMl0bHjfd",
        "outputId": "1d207a72-3c63-4799-fd02-e0807eb06938"
      },
      "outputs": [
        {
          "name": "stdout",
          "output_type": "stream",
          "text": [
            "Olá, mundo\n"
          ]
        },
        {
          "data": {
            "text/plain": [
              "[15, 38, 27, 0, 39, 47, 40, 30, 41]"
            ]
          },
          "execution_count": 132,
          "metadata": {},
          "output_type": "execute_result"
        }
      ],
      "source": [
        "def gerar_vetor_de_inteiros():\n",
        "    \"\"\"\n",
        "    @brief Converte uma lista de letras tratadas em seus respectivos códigos inteiros.\n",
        "\n",
        "    Esta função chama gera_vetor_de_letras() para obter uma lista de letras normalizadas e validadas,\n",
        "    e então substitui cada letra pelo número correspondente no dicionário tradutor_de_letras.\n",
        "\n",
        "    @return list[int] Lista de inteiros representando as letras convertidas.\n",
        "    \"\"\"\n",
        "    vetor_de_letras = gerar_vetor_de_letras()\n",
        "\n",
        "    for i, letra in enumerate(vetor_de_letras):\n",
        "        vetor_de_letras[i] = tradutor_de_letras[letra]\n",
        "\n",
        "    return vetor_de_letras\n",
        "\n",
        "gerar_vetor_de_inteiros()"
      ]
    },
    {
      "cell_type": "code",
      "execution_count": null,
      "metadata": {
        "id": "3n-jjiZCXoSf"
      },
      "outputs": [],
      "source": [
        "def gerar_matriz_A(vetor_de_letras):\n",
        "    \"\"\"\n",
        "    @brief Gera uma matriz quadrada A de forma determinística baseada em uma chave global.\n",
        "\n",
        "    A matriz é gerada a partir do comprimento do vetor de letras (pelo qual é dimensionada),\n",
        "    garantindo que tenha determinante diferente de zero (ou seja, seja invertível).\n",
        "    Se o vetor for menor que 3, ele é preenchido com zeros à direita para garantir um tamanho mínimo.\n",
        "\n",
        "    @param vetor_de_letras Lista de inteiros representando letras codificadas.\n",
        "    @return np.ndarray Matriz quadrada invertível, gerada de forma pseudoaleatória e determinística.\n",
        "    \"\"\"\n",
        "\n",
        "    if len(vetor_de_letras) < 3:\n",
        "        zeros = 3 - len(vetor_de_letras)\n",
        "        vetor_de_letras.extend([0] * zeros)\n",
        "\n",
        "    tamanho = len(vetor_de_letras)\n",
        "\n",
        "    rng = np.random.default_rng(seed=chave)\n",
        "\n",
        "    while True:\n",
        "        A = rng.integers(1, 10, size=(tamanho, tamanho))\n",
        "        if np.linalg.det(A) != 0:\n",
        "            return A\n"
      ]
    },
    {
      "cell_type": "code",
      "execution_count": null,
      "metadata": {
        "id": "2KHwHWMcisPx"
      },
      "outputs": [],
      "source": [
        "def gerar_vetor_codificado():\n",
        "    \"\"\"\n",
        "    @brief Função principal do programa de criptografia com matriz.\n",
        "\n",
        "    Essa função executa o processo completo de codificação de uma mensagem:\n",
        "    - Converte a mensagem em um vetor de inteiros usando gera_vetor_de_inteiros().\n",
        "    - Gera uma matriz quadrada invertível A a partir da chave global e do vetor.\n",
        "    - Codifica a mensagem multiplicando a matriz A pelo vetor.\n",
        "    - Exibe o vetor codificado resultante, que representa a mensagem criptografada.\n",
        "\n",
        "    @note A chave para a geração da matriz A deve ser definida globalmente.\n",
        "    @see gerar_vetor_de_inteiros()\n",
        "    @see gerar_matriz_A()\n",
        "    \"\"\"\n",
        "    vetor_de_letras = gerar_vetor_de_inteiros()\n",
        "    matriz_A = gerar_matriz_A(vetor_de_letras)\n",
        "    vetor_codificado = np.dot(matriz_A, vetor_de_letras)\n",
        "\n",
        "    return vetor_codificado\n"
      ]
    },
    {
      "cell_type": "markdown",
      "metadata": {
        "id": "rrTI1xx5eQIi"
      },
      "source": [
        "Segundo Programa\n"
      ]
    },
    {
      "cell_type": "code",
      "execution_count": null,
      "metadata": {
        "id": "wHpydNgAntsr"
      },
      "outputs": [],
      "source": [
        "def inversa_por_escalonamento(A):\n",
        "    \"\"\"\n",
        "    @brief Calcula a inversa de uma matriz quadrada usando o método de Gauss-Jordan (escalonamento).\n",
        "\n",
        "    Esta função implementa o algoritmo de escalonamento completo (eliminação de Gauss-Jordan)\n",
        "    para obter a inversa de uma matriz A. O processo transforma a matriz aumentada [A | I]\n",
        "    até que a parte esquerda vire a matriz identidade, resultando na parte direita como A⁻¹.\n",
        "\n",
        "    @param A np.ndarray Matriz quadrada (n x n) a ser invertida.\n",
        "    @return np.ndarray Matriz inversa de A (A⁻¹), com mesmo tamanho.\n",
        "    \"\"\"\n",
        "    n = A.shape[0]\n",
        "    A_extendida = np.hstack((A.astype(float), np.identity(n)))\n",
        "\n",
        "    for i in range(n):\n",
        "        if A_extendida[i, i] == 0:\n",
        "            for j in range(i + 1, n):\n",
        "                if A_extendida[j, i] != 0:\n",
        "                    A_extendida[[i, j]] = A_extendida[[j, i]]\n",
        "                    break\n",
        "\n",
        "        A_extendida[i] = A_extendida[i] / A_extendida[i, i]\n",
        "\n",
        "        for j in range(n):\n",
        "            if i != j:\n",
        "                fator = A_extendida[j, i]\n",
        "                A_extendida[j] -= fator * A_extendida[i]\n",
        "\n",
        "    return A_extendida[:, n:]\n"
      ]
    },
    {
      "cell_type": "code",
      "execution_count": null,
      "metadata": {
        "id": "ytTZmGy7jJyE"
      },
      "outputs": [],
      "source": [
        "def receber_mensagem(vetor_decodificado):\n",
        "    \"\"\"\n",
        "    @brief Converte um vetor de inteiros em uma mensagem de texto.\n",
        "\n",
        "    Essa função recebe uma lista de números inteiros, onde cada número representa\n",
        "    uma letra (ou espaço) com base no dicionário `numero_para_letra`, e monta\n",
        "    a mensagem original como uma string.\n",
        "\n",
        "    @param vetor_decodificado Lista de inteiros (ex: [15, 12, 1, 0, 20, 21, ...]).\n",
        "    @return str Mensagem de texto reconstruída (ex: \"ola turma\").\n",
        "    \"\"\"\n",
        "    mensagem_final = ''.join([numero_para_letra.get(num, '?') for num in vetor_decodificado])\n",
        "\n",
        "    return mensagem_final"
      ]
    },
    {
      "cell_type": "code",
      "execution_count": null,
      "metadata": {
        "colab": {
          "base_uri": "https://localhost:8080/"
        },
        "id": "yUaYFibWeWf_",
        "outputId": "aec2dc31-2403-4ed0-da66-2a8aed688e9a"
      },
      "outputs": [
        {
          "name": "stdout",
          "output_type": "stream",
          "text": [
            "Olá, turma\n",
            "Ola turma\n"
          ]
        }
      ],
      "source": [
        "def decodificar_vetor(vetor_codificado):\n",
        "    \"\"\"\n",
        "    @brief Decodifica um vetor codificado utilizando a inversa da matriz de codificação.\n",
        "\n",
        "    Esta função recria a matriz A com base no vetor codificado e em uma chave conhecida,\n",
        "    calcula sua inversa, e multiplica pela mensagem codificada para recuperar o vetor original de inteiros.\n",
        "    Pequenas imprecisões numéricas são corrigidas por arredondamento.\n",
        "\n",
        "    @param vetor_codificado Vetor NumPy contendo os valores codificados (b̄).\n",
        "    @return list[int] Vetor de inteiros decodificado (mensagem original em forma numérica).\n",
        "    \"\"\"\n",
        "    matriz_A = gerar_matriz_A(vetor_codificado)\n",
        "    matriz_inversa = inversa_por_escalonamento(matriz_A)\n",
        "    vetor_decodificado = np.dot(matriz_inversa, vetor_codificado)\n",
        "    vetor_decodificado = np.round(vetor_decodificado).astype(int)\n",
        "    mensagem_final = receber_mensagem(vetor_decodificado)\n",
        "    print(mensagem_final)\n",
        "\n",
        "decodificar_vetor(gerar_vetor_codificado())"
      ]
    }
  ],
  "metadata": {
    "colab": {
      "provenance": []
    },
    "kernelspec": {
      "display_name": "Python 3",
      "name": "python3"
    },
    "language_info": {
      "name": "python"
    }
  },
  "nbformat": 4,
  "nbformat_minor": 0
}
